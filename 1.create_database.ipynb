{
 "cells": [
  {
   "cell_type": "code",
   "execution_count": 1,
   "metadata": {},
   "outputs": [],
   "source": [
    "import sqlite3"
   ]
  },
  {
   "cell_type": "code",
   "execution_count": 2,
   "metadata": {},
   "outputs": [],
   "source": [
    "# 데이터베이스 연결 (파일로 저장되며, 파일 이름은 예시로 'example.db')\n",
    "conn = sqlite3.connect('example.db')\n",
    "cursor = conn.cursor()\n"
   ]
  },
  {
   "cell_type": "code",
   "execution_count": 3,
   "metadata": {},
   "outputs": [],
   "source": [
    "create_table_query = '''\n",
    "CREATE TABLE IF NOT EXISTS 제품 (\n",
    "    id INTEGER PRIMARY KEY AUTOINCREMENT,\n",
    "    datetime TEXT,            -- 날짜 및 시간 (ISO 형식으로 저장: \"YYYY-MM-DD HH:MM:SS\")\n",
    "    uuid TEXT UNIQUE,          -- UUID (고유 식별자)\n",
    "    is_defective INTEGER,      -- 제품 상태 (예: \"양품\" 또는 \"불량품\")\n",
    "    defect_reason TEXT         -- 불량 이유 (불량인 경우에만 이유 저장)\n",
    ")\n",
    "'''\n"
   ]
  },
  {
   "cell_type": "code",
   "execution_count": 4,
   "metadata": {},
   "outputs": [],
   "source": [
    "# 테이블 생성\n",
    "cursor.execute(create_table_query)\n",
    "\n",
    "# 변경 사항 저장\n",
    "conn.commit()"
   ]
  }
 ],
 "metadata": {
  "kernelspec": {
   "display_name": "Python 3",
   "language": "python",
   "name": "python3"
  },
  "language_info": {
   "codemirror_mode": {
    "name": "ipython",
    "version": 3
   },
   "file_extension": ".py",
   "mimetype": "text/x-python",
   "name": "python",
   "nbconvert_exporter": "python",
   "pygments_lexer": "ipython3",
   "version": "3.10.15"
  }
 },
 "nbformat": 4,
 "nbformat_minor": 2
}
