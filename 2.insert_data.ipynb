{
 "cells": [
  {
   "cell_type": "code",
   "execution_count": 1,
   "metadata": {},
   "outputs": [],
   "source": [
    "import sqlite3\n",
    "import uuid\n",
    "from datetime import datetime"
   ]
  },
  {
   "cell_type": "code",
   "execution_count": 2,
   "metadata": {},
   "outputs": [],
   "source": [
    "# 데이터베이스 연결\n",
    "conn = sqlite3.connect('example.db')\n",
    "cursor = conn.cursor()"
   ]
  },
  {
   "cell_type": "code",
   "execution_count": 3,
   "metadata": {},
   "outputs": [],
   "source": [
    "# 데이터 삽입 함수\n",
    "def insert_data(datetime_value, uuid_value, is_defective, defect_reason=None):\n",
    "    insert_query = '''\n",
    "    INSERT INTO 제품 (datetime, uuid, is_defective, defect_reason)\n",
    "    VALUES (?, ?, ?, ?)\n",
    "    '''\n",
    "    cursor.execute(insert_query, (datetime_value, uuid_value, is_defective, defect_reason))\n",
    "    conn.commit()"
   ]
  },
  {
   "cell_type": "code",
   "execution_count": 4,
   "metadata": {},
   "outputs": [],
   "source": [
    "# 데이터 예제들\n",
    "data_list = [\n",
    "    {\n",
    "        \"datetime\": datetime.now().strftime(\"%Y-%m-%d %H:%M:%S\"),\n",
    "        \"uuid\": str(uuid.uuid4()),\n",
    "        \"is_defective\": 1,\n",
    "        \"defect_reason\": \"스크래치 있음\"\n",
    "    },\n",
    "    {\n",
    "        \"datetime\": datetime.now().strftime(\"%Y-%m-%d %H:%M:%S\"), \n",
    "        \"uuid\": str(uuid.uuid4()),\n",
    "        \"is_defective\": 0,\n",
    "        \"defect_reason\": None\n",
    "    },\n",
    "    {\n",
    "        \"datetime\": datetime.now().strftime(\"%Y-%m-%d %H:%M:%S\"),\n",
    "        \"uuid\": str(uuid.uuid4()), \n",
    "        \"is_defective\": 1,\n",
    "        \"defect_reason\": \"색상 불량\"\n",
    "    },\n",
    "    {\n",
    "        \"datetime\": datetime.now().strftime(\"%Y-%m-%d %H:%M:%S\"),\n",
    "        \"uuid\": str(uuid.uuid4()),\n",
    "        \"is_defective\": 0,\n",
    "        \"defect_reason\": None\n",
    "    },\n",
    "    {\n",
    "        \"datetime\": datetime.now().strftime(\"%Y-%m-%d %H:%M:%S\"),\n",
    "        \"uuid\": str(uuid.uuid4()),\n",
    "        \"is_defective\": 1, \n",
    "        \"defect_reason\": \"크기 불량\"\n",
    "    },\n",
    "    {\n",
    "        \"datetime\": datetime.now().strftime(\"%Y-%m-%d %H:%M:%S\"),\n",
    "        \"uuid\": str(uuid.uuid4()),\n",
    "        \"is_defective\": 0,\n",
    "        \"defect_reason\": None\n",
    "    },\n",
    "    {\n",
    "        \"datetime\": datetime.now().strftime(\"%Y-%m-%d %H:%M:%S\"),\n",
    "        \"uuid\": str(uuid.uuid4()),\n",
    "        \"is_defective\": 1,\n",
    "        \"defect_reason\": \"모양 변형\"\n",
    "    },\n",
    "    {\n",
    "        \"datetime\": datetime.now().strftime(\"%Y-%m-%d %H:%M:%S\"),\n",
    "        \"uuid\": str(uuid.uuid4()),\n",
    "        \"is_defective\": 0,\n",
    "        \"defect_reason\": None\n",
    "    },\n",
    "    {\n",
    "        \"datetime\": datetime.now().strftime(\"%Y-%m-%d %H:%M:%S\"),\n",
    "        \"uuid\": str(uuid.uuid4()),\n",
    "        \"is_defective\": 1,\n",
    "        \"defect_reason\": \"이물질 발견\"\n",
    "    },\n",
    "    {\n",
    "        \"datetime\": datetime.now().strftime(\"%Y-%m-%d %H:%M:%S\"),\n",
    "        \"uuid\": str(uuid.uuid4()),\n",
    "        \"is_defective\": 0,\n",
    "        \"defect_reason\": None\n",
    "    }\n",
    "]"
   ]
  },
  {
   "cell_type": "code",
   "execution_count": 6,
   "metadata": {},
   "outputs": [],
   "source": [
    "# 데이터 삽입 호출\n",
    "for data in data_list:\n",
    "    insert_data(\n",
    "        data['datetime'],\n",
    "        data['uuid'],\n",
    "        data['is_defective'],\n",
    "        data['defect_reason']\n",
    "    )\n",
    "\n",
    "# 연결 종료\n",
    "conn.close()\n",
    "\n",
    "# 연결 종료\n",
    "conn.close()"
   ]
  }
 ],
 "metadata": {
  "kernelspec": {
   "display_name": "Python 3",
   "language": "python",
   "name": "python3"
  },
  "language_info": {
   "codemirror_mode": {
    "name": "ipython",
    "version": 3
   },
   "file_extension": ".py",
   "mimetype": "text/x-python",
   "name": "python",
   "nbconvert_exporter": "python",
   "pygments_lexer": "ipython3",
   "version": "3.10.15"
  }
 },
 "nbformat": 4,
 "nbformat_minor": 2
}
